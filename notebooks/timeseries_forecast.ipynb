{
 "cells": [
  {
   "cell_type": "code",
   "execution_count": null,
   "metadata": {
    "collapsed": true,
    "pycharm": {
     "is_executing": true
    }
   },
   "outputs": [],
   "source": [
    "import pandas as pd\n",
    "import numpy as np"
   ]
  },
  {
   "cell_type": "markdown",
   "source": [
    "Study/analyse time-series data for the decay rates. Goal is to select the best method for each decay evolution scenario: devolving, evolving, fluctuating.\n",
    "\n",
    "To-implement:\n",
    "1. Simulate the evolution scenarios\n",
    "2. Implement the forecasting method\n",
    "3. Evaluate the method"
   ],
   "metadata": {
    "collapsed": false
   }
  },
  {
   "cell_type": "code",
   "execution_count": null,
   "outputs": [],
   "source": [
    "#Simulate the evolution scenarios\n",
    "\"\"\"\n",
    "Inputs:\n",
    "    > time frame\n",
    "    > number of evolutions\n",
    "    > evolution rates\n",
    "\"\"\"\n",
    "\n",
    "def evolution_rates(decay_start, evolution_rates, tframe):\n",
    "    decay_rates_list = list()\n",
    "    t, d, evolve_t = 0, decay_start, 0 #TODO: compute evolve_t\n",
    "    while t < tframe:\n",
    "        if t >= evolve_t:\n",
    "            d = d * (1 + evolution_rates.pop(0))\n",
    "            evolve_t += evolution_rates.pop(0)\n",
    "        decay_rates_list.append(d)\n",
    "        t += 1\n",
    "    return decay_rates_list"
   ],
   "metadata": {
    "collapsed": false,
    "pycharm": {
     "is_executing": true
    }
   }
  },
  {
   "cell_type": "code",
   "execution_count": null,
   "outputs": [],
   "source": [
    "def moving_average(decay_rates, win_size):\n",
    "    time_series = pd.Series(decay_rates)\n",
    "    win_size = min(5, win_size)\n",
    "    moving_averge = time_series.rolling(window=win_size).mean()\n",
    "    return moving_averge"
   ],
   "metadata": {
    "collapsed": false
   }
  }
 ],
 "metadata": {
  "kernelspec": {
   "display_name": "Python 3",
   "language": "python",
   "name": "python3"
  },
  "language_info": {
   "codemirror_mode": {
    "name": "ipython",
    "version": 2
   },
   "file_extension": ".py",
   "mimetype": "text/x-python",
   "name": "python",
   "nbconvert_exporter": "python",
   "pygments_lexer": "ipython2",
   "version": "2.7.6"
  }
 },
 "nbformat": 4,
 "nbformat_minor": 0
}
